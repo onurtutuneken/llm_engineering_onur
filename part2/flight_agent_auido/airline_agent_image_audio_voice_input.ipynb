{
 "cells": [
  {
   "cell_type": "markdown",
   "id": "ddfa9ae6-69fe-444a-b994-8c4c5970a7ec",
   "metadata": {},
   "source": [
    "# Project - Airline AI Assistant\n",
    "\n",
    "We'll now bring together what we've learned to make an AI Customer Support assistant for an Airline\n",
    "\n",
    "Airline ticket by using multiple tools"
   ]
  },
  {
   "cell_type": "markdown",
   "id": "dfdb41ed-6418-4646-b3e7-d2ad53ceec2f",
   "metadata": {},
   "source": [
    "Eklenecekler: ben türkçe konuşayım, sesi text yaptıktan sonra claude veya llama ingilizceye çevirsin.\n",
    "cevap döndükten sonra cevabı önce ingilizce versin. "
   ]
  },
  {
   "cell_type": "code",
   "execution_count": null,
   "id": "8b50bbe2-c0b1-49c3-9a5c-1ba7efa2bcb4",
   "metadata": {},
   "outputs": [],
   "source": [
    "# imports\n",
    "\n",
    "import os\n",
    "import json\n",
    "from dotenv import load_dotenv\n",
    "from openai import OpenAI\n",
    "import gradio as gr"
   ]
  },
  {
   "cell_type": "code",
   "execution_count": null,
   "id": "747e8786-9da8-4342-b6c9-f5f69c2e22ae",
   "metadata": {},
   "outputs": [],
   "source": [
    "# Initialization\n",
    "\n",
    "load_dotenv(override=True)\n",
    "\n",
    "openai_api_key = os.getenv('OPENAI_API_KEY')\n",
    "if openai_api_key:\n",
    "    print(f\"OpenAI API Key exists and begins {openai_api_key[:8]}\")\n",
    "else:\n",
    "    print(\"OpenAI API Key not set\")\n",
    "    \n",
    "MODEL = \"gpt-4o-mini\"\n",
    "openai = OpenAI()\n",
    "\n",
    "# As an alternative, if you'd like to use Ollama instead of OpenAI\n",
    "# Check that Ollama is running for you locally (see week1/day2 exercise) then uncomment these next 2 lines\n",
    "# MODEL = \"llama3.2\"\n",
    "# openai = OpenAI(base_url='http://localhost:11434/v1', api_key='ollama')\n"
   ]
  },
  {
   "cell_type": "code",
   "execution_count": null,
   "id": "0a521d84-d07c-49ab-a0df-d6451499ed97",
   "metadata": {},
   "outputs": [],
   "source": [
    "system_message = \"You are a helpful assistant for an Airline called FlightAI. \"\n",
    "system_message += \"Give short, courteous answers, no more than 1 sentence. \"\n",
    "system_message += \"Always be accurate. If you don't know the answer, say so.\""
   ]
  },
  {
   "cell_type": "markdown",
   "id": "36bedabf-a0a7-4985-ad8e-07ed6a55a3a4",
   "metadata": {},
   "source": [
    "## Tools\n"
   ]
  },
  {
   "cell_type": "markdown",
   "id": "8cabbdb5-7f65-4616-867a-cd39bdabf774",
   "metadata": {},
   "source": [
    "There  will be 2 tools at the beginnig. \n",
    "1: Will tell the ticket price\n",
    "2. Will tell the places to see"
   ]
  },
  {
   "cell_type": "code",
   "execution_count": null,
   "id": "0696acb1-0b05-4dc2-80d5-771be04f1fb2",
   "metadata": {},
   "outputs": [],
   "source": [
    "# 1: Ticket price function\n",
    "\n",
    "ticket_prices = {\"london\": \"$799\", \"paris\": \"$899\", \"tokyo\": \"$1400\", \"berlin\": \"$499\"}\n",
    "\n",
    "def get_ticket_price(destination_city):\n",
    "    print(f\"Tool get_ticket_price called for {destination_city}\") # this way we can see this function called in output\n",
    "    city = destination_city.lower()\n",
    "    return ticket_prices.get(city, \"Unknown\") # ticket_prices'te bulamazsa Unknown yazıyor\n",
    "    # return ticket_prices.get(city) # bu boş dönüyor bulamazsa"
   ]
  },
  {
   "cell_type": "code",
   "execution_count": null,
   "id": "80ca4e09-6287-4d3f-997d-fa6afbcf6c85",
   "metadata": {},
   "outputs": [],
   "source": [
    "# get_ticket_price(\"Berlin\")"
   ]
  },
  {
   "cell_type": "code",
   "execution_count": null,
   "id": "4afceded-7178-4c05-8fa6-9f2085e6a344",
   "metadata": {},
   "outputs": [],
   "source": [
    "# There's a particular dictionary structure that's required to describe our function:\n",
    "# 1st function for first tool\n",
    "\n",
    "price_function = {\n",
    "    \"name\": \"get_ticket_price\",\n",
    "    \"description\": \"Get the price of a return ticket to the destination city. Call this whenever you need to know the ticket price,\\\n",
    "                    for example when a customer asks 'How much is a ticket to this city'\",\n",
    "    \"parameters\": {\n",
    "        \"type\": \"object\",\n",
    "        \"properties\": {\n",
    "            \"destination_city\": {\n",
    "                \"type\": \"string\",\n",
    "                \"description\": \"The city that the customer wants to travel to\",\n",
    "            },\n",
    "        },\n",
    "        \"required\": [\"destination_city\"],\n",
    "        \"additionalProperties\": False\n",
    "    }\n",
    "}"
   ]
  },
  {
   "cell_type": "code",
   "execution_count": null,
   "id": "3eb9edb7-08fb-496d-b62a-54e84a7d334f",
   "metadata": {},
   "outputs": [],
   "source": [
    "# 2: Places to see function\n",
    "\n",
    "places_to_see = {\"london\": \"London Eye\", \"paris\": \"Eifel\", \"tokyo\": \"Tokyo Drift\", \"berlin\": \"I don't know\", \\\n",
    "                \"istanbul\": \"Şükrü Saraçoğlu, Fenerbahçe Stadium\", \"bayburt\": \"Ortugu. \\\n",
    "                This place is where onur has born. Everybody should see there.\"}\n",
    "\n",
    "def get_places_to_see(destination_city): \n",
    "    print(f\"Tool get_places_to_see called for {destination_city}\") # this way we can see this function called in output\n",
    "    city = destination_city.lower()\n",
    "    return places_to_see.get(city, \"Bimiyorum ki valla Onur'a sor\")"
   ]
  },
  {
   "cell_type": "code",
   "execution_count": null,
   "id": "79975363",
   "metadata": {},
   "outputs": [],
   "source": [
    "# get_places_to_see(\"Ankara\")"
   ]
  },
  {
   "cell_type": "code",
   "execution_count": null,
   "id": "c4db0410",
   "metadata": {},
   "outputs": [],
   "source": [
    "# There's a particular dictionary structure that's required to describe our function:\n",
    "# 2nd function for second tool\n",
    "\n",
    "place_function = {\n",
    "    \"name\": \"get_places_to_see\",\n",
    "    \"description\": \"Get the place to see in the destination city. \\\n",
    "                    Call this whenever you need to know the place to visit,\\\n",
    "                    for example when a customer asks 'Where can I visit in this city' or 'Where should I see in this city'\",\n",
    "    \"parameters\": {\n",
    "        \"type\": \"object\",\n",
    "        \"properties\": {\n",
    "            \"destination_city\": {\n",
    "                \"type\": \"string\",\n",
    "                \"description\": \"The city that the customer wants to travel to\",\n",
    "            },\n",
    "        },\n",
    "        \"required\": [\"destination_city\"],\n",
    "        \"additionalProperties\": False\n",
    "    }\n",
    "}"
   ]
  },
  {
   "cell_type": "code",
   "execution_count": null,
   "id": "bdca8679-935f-4e7f-97e6-e71a4d4f228c",
   "metadata": {},
   "outputs": [],
   "source": [
    "# And this is included in a list of tools:\n",
    "\n",
    "tools = [{\"type\": \"function\", \"function\": price_function}, \n",
    "        {\"type\": \"function\", \"function\": place_function}]"
   ]
  },
  {
   "cell_type": "markdown",
   "id": "c3d3554f-b4e3-4ce7-af6f-68faa6dd2340",
   "metadata": {},
   "source": [
    "## Getting OpenAI to use our Tool\n"
   ]
  },
  {
   "cell_type": "code",
   "execution_count": null,
   "id": "ce9b0744-9c78-408d-b9df-9f6fd9ed78cf",
   "metadata": {
    "editable": true,
    "slideshow": {
     "slide_type": ""
    },
    "tags": []
   },
   "outputs": [],
   "source": [
    "# def chat(message, history):\n",
    "#     messages = [{\"role\": \"system\", \"content\": system_message}] + history + [{\"role\": \"user\", \"content\": message}]\n",
    "#     response = openai.chat.completions.create(model=MODEL, messages=messages, tools=tools)\n",
    "#     print(f\"finish reason {response.choices[0].finish_reason}\")\n",
    "#     print(f\"Response {response.choices[0].message.content}\")\n",
    "\n",
    "#     if response.choices[0].finish_reason==\"tool_calls\":\n",
    "#         message = response.choices[0].message\n",
    "#         print(f\" \\n, Tool call message: {message}, \\n\")\n",
    "#         response, city = handle_tool_call(message)\n",
    "#         messages.append(message)\n",
    "#         messages.append(response)\n",
    "#         response = openai.chat.completions.create(model=MODEL, messages=messages)\n",
    "    \n",
    "#     return response.choices[0].message.content"
   ]
  },
  {
   "cell_type": "code",
   "execution_count": null,
   "id": "b0992986-ea09-4912-a076-8e5603ee631f",
   "metadata": {
    "editable": true,
    "slideshow": {
     "slide_type": ""
    },
    "tags": []
   },
   "outputs": [],
   "source": [
    "# We have to write that function handle_tool_call:\n",
    "\n",
    "def handle_tool_call(message):\n",
    "    tool_call = message.tool_calls[0] # message already has which tool to call\n",
    "    arguments = json.loads(tool_call.function.arguments) # because it is in json format\n",
    "    city = arguments.get('destination_city')\n",
    "    function_name = tool_call.function.name # this is just a string, look at message(call tool message)\n",
    "    \n",
    "    # price = get_ticket_price(city) we dont know which function to use\n",
    "    func = 0\n",
    "    if function_name == \"get_ticket_price\":\n",
    "        price = get_ticket_price(city)\n",
    "        func = 1\n",
    "        tool_name = \"ticket_price\"\n",
    "        \n",
    "    elif function_name == \"get_places_to_see\":\n",
    "        place = get_places_to_see(city)\n",
    "        func = 2\n",
    "        tool_name = \"place_to_see\"\n",
    "        \n",
    "    if func == 1:\n",
    "        response = {\n",
    "        \"role\": \"tool\",\n",
    "        \"content\": json.dumps({\"destination_city\": city,\"price\": price}), # destination_city tool call messagının içinde var\n",
    "        \"tool_call_id\": tool_call.id\n",
    "        }\n",
    "    elif func == 2:\n",
    "        response = {\n",
    "        \"role\": \"tool\",\n",
    "        \"content\": json.dumps({\"destination_city\": city,\"place\": place}), # destination_city tool call messagının içinde var\n",
    "        \"tool_call_id\": tool_call.id\n",
    "        }\n",
    "        \n",
    "    return response, city , tool_name\n",
    "    # i give tool_name s that if it is place_to_see it will draw the city"
   ]
  },
  {
   "cell_type": "code",
   "execution_count": null,
   "id": "f4be8a71-b19e-4c2f-80df-f59ff2661f14",
   "metadata": {
    "editable": true,
    "scrolled": true,
    "slideshow": {
     "slide_type": ""
    },
    "tags": []
   },
   "outputs": [],
   "source": [
    "# gr.ChatInterface(fn=chat, type=\"messages\").launch()\n",
    "\n",
    "# # call id'de hata alıyor. şehir ismi verip taskı tam anlatmazsan karıştırıyor."
   ]
  },
  {
   "cell_type": "markdown",
   "id": "532a2325-681c-477e-8d64-0b84cb59c383",
   "metadata": {
    "jp-MarkdownHeadingCollapsed": true
   },
   "source": [
    "# Let's go multi-modal!!\n",
    "\n",
    "We can use DALL-E-3, the image generation model behind GPT-4o, to make us some images\n",
    "\n",
    "Let's put this in a function called artist.\n",
    "\n",
    "### Price alert: each time I generate an image it costs about 4 cents - don't go crazy with images!"
   ]
  },
  {
   "cell_type": "code",
   "execution_count": null,
   "id": "e16247b7-fd64-44d3-9e75-1535862434f1",
   "metadata": {},
   "outputs": [],
   "source": [
    "# Some imports for handling images\n",
    "\n",
    "import base64\n",
    "from io import BytesIO\n",
    "from PIL import Image"
   ]
  },
  {
   "cell_type": "code",
   "execution_count": null,
   "id": "2dc3450b-57e0-456c-8d7e-e340dc9af7db",
   "metadata": {},
   "outputs": [],
   "source": [
    "# def artist(city):\n",
    "#     image_response = openai.images.generate(\n",
    "#             model=\"dall-e-2\", # dall-e-3\n",
    "#             prompt=f\"An image representing a vacation in {city}, showing tourist spots and everything unique about {city}, in a vibrant pop-art style\",\n",
    "#             size=\"1024x1024\",\n",
    "#             n=1,\n",
    "#             response_format=\"b64_json\",\n",
    "#         )\n",
    "#     image_base64 = image_response.data[0].b64_json\n",
    "#     image_data = base64.b64decode(image_base64)\n",
    "#     return Image.open(BytesIO(image_data))"
   ]
  },
  {
   "cell_type": "code",
   "execution_count": null,
   "id": "9b218f2a-9c08-4042-9aa7-babfb974dbbb",
   "metadata": {},
   "outputs": [],
   "source": [
    "# image = artist(\"İstanbul\")\n",
    "# display(image)"
   ]
  },
  {
   "cell_type": "code",
   "execution_count": null,
   "id": "a91525c0-3d6d-4d4b-8b67-26481aa9d2fb",
   "metadata": {},
   "outputs": [],
   "source": [
    "# tool_call sonrası çizeceği şehir fotosuna place_to_see önerisini de dahil edecek.\n",
    "\n",
    "def artist(city, artist_place_input):\n",
    "    image_response = openai.images.generate(\n",
    "            model=\"dall-e-3\", # dall-e-3\n",
    "            prompt=f\"An image representing a vacation in {city}, showing tourist spots and \\\n",
    "            everything unique about {city}, in a vibrant pop-art style. Be creative and cool \\\n",
    "            Also if {artist_place_input} \\\n",
    "            is not None and there is a place suggested to visit, you must include that place \\\n",
    "            in the middle of theimage. For example if sugestion is to see Fenerbahçe Stadium, include \\\n",
    "            the stadium in the image. If it is Onur's hometown Ortugu then include Onur's home and village. \\\n",
    "            If there is no suggested place don't include it.\",\n",
    "            size=\"1024x1024\",\n",
    "            n=1,\n",
    "            response_format=\"b64_json\",\n",
    "        )\n",
    "    image_base64 = image_response.data[0].b64_json\n",
    "    image_data = base64.b64decode(image_base64)\n",
    "    return Image.open(BytesIO(image_data))"
   ]
  },
  {
   "cell_type": "markdown",
   "id": "ef8d2266-2429-4c9b-9314-61e19be439e3",
   "metadata": {},
   "source": [
    "# Audio"
   ]
  },
  {
   "cell_type": "code",
   "execution_count": null,
   "id": "b2f5d007-c414-4e27-b4fe-ce8e7df64009",
   "metadata": {
    "scrolled": true
   },
   "outputs": [],
   "source": [
    "!ffmpeg -version\n",
    "!ffprobe -version\n",
    "!ffplay -version"
   ]
  },
  {
   "cell_type": "code",
   "execution_count": null,
   "id": "1aa8d0f4-a229-4379-b790-f5710f4f7b67",
   "metadata": {},
   "outputs": [],
   "source": [
    "from pydub import AudioSegment\n",
    "from pydub.playback import play\n",
    "\n",
    "def talker(message):\n",
    "    response = openai.audio.speech.create(\n",
    "      model=\"tts-1\",\n",
    "      voice=\"onyx\",    # Also, try replacing onyx with alloy\n",
    "      input=message\n",
    "    )\n",
    "    \n",
    "    audio_stream = BytesIO(response.content)\n",
    "    audio = AudioSegment.from_file(audio_stream, format=\"mp3\")\n",
    "    play(audio)"
   ]
  },
  {
   "cell_type": "code",
   "execution_count": null,
   "id": "f33a0a2c-e861-4338-aecb-00efd57e7964",
   "metadata": {},
   "outputs": [],
   "source": [
    "talker(\"Well, hi there\")"
   ]
  },
  {
   "cell_type": "markdown",
   "id": "0247f44a-bd9d-4f14-9b54-137ef0bb332d",
   "metadata": {},
   "source": [
    "# Our Agent Framework\n",
    "\n",
    "The term 'Agentic AI' and Agentization is an umbrella term that refers to a number of techniques, such as:\n",
    "\n",
    "1. Breaking a complex problem into smaller steps, with multiple LLMs carrying out specialized tasks\n",
    "2. The ability for LLMs to use Tools to give them additional capabilities\n",
    "3. The 'Agent Environment' which allows Agents to collaborate\n",
    "4. An LLM can act as the Planner, dividing bigger tasks into smaller ones for the specialists\n",
    "5. The concept of an Agent having autonomy / agency, beyond just responding to a prompt - such as Memory\n",
    "\n",
    "We're showing 1 and 2 here, and to a lesser extent 3 and 5. In week 8 we will do the lot!"
   ]
  },
  {
   "cell_type": "code",
   "execution_count": null,
   "id": "281b821f-417f-4e39-b74f-8c71a25133f1",
   "metadata": {},
   "outputs": [],
   "source": [
    "pip install sounddevice"
   ]
  },
  {
   "cell_type": "code",
   "execution_count": null,
   "id": "a8fbfb1c-2f9a-4a31-9719-6b9799401669",
   "metadata": {},
   "outputs": [],
   "source": [
    "import sounddevice as sd\n",
    "import numpy as np\n",
    "import scipy.io.wavfile\n",
    "from io import BytesIO\n",
    "# import openai\n",
    "\n",
    "def record_audio_to_memory(duration=5, samplerate=44100):\n",
    "    print(\"Recording...\")\n",
    "    audio = sd.rec(int(duration * samplerate), samplerate=samplerate, channels=1, dtype='int16')\n",
    "    sd.wait()\n",
    "    print(\"Recording finished.\")\n",
    "\n",
    "    # Save WAV to a BytesIO buffer\n",
    "    wav_buffer = BytesIO()\n",
    "    scipy.io.wavfile.write(wav_buffer, samplerate, audio)\n",
    "    wav_buffer.seek(0)  # rewind to the start\n",
    "    return wav_buffer\n",
    "\n",
    "def transcribe_audio_from_memory(wav_buffer):\n",
    "    transcript = openai.audio.transcriptions.create(\n",
    "        model=\"whisper-1\",\n",
    "        file=(\"audio.wav\", wav_buffer, \"audio/wav\")\n",
    "    )\n",
    "    return transcript.text"
   ]
  },
  {
   "cell_type": "code",
   "execution_count": null,
   "id": "9b5e0144-7463-4a9b-8a6c-ae00d792a1c4",
   "metadata": {},
   "outputs": [],
   "source": [
    "from time import sleep\n",
    "\n",
    "def voice_chat(history):\n",
    "    # Step 1: Record audio & transcribe to text (in memory)\n",
    "    buffer = record_audio_to_memory(duration=3)\n",
    "    user_input = transcribe_audio_from_memory(buffer)\n",
    "    print(\"You said:\", user_input)\n",
    "\n",
    "    # Step 2: Add user message to history\n",
    "    history.append({\"role\": \"user\", \"content\": user_input})\n",
    "\n",
    "    # Step 3: Run your existing chat function\n",
    "    history, image = chat(history)\n",
    "\n",
    "    return history, image"
   ]
  },
  {
   "cell_type": "code",
   "execution_count": null,
   "id": "ee13e979-1a05-4dad-bd62-225bb492ce71",
   "metadata": {},
   "outputs": [],
   "source": [
    "from time import sleep\n",
    "\n",
    "def chat(history):\n",
    "    messages = [{\"role\": \"system\", \"content\": system_message}] + history\n",
    "    response = openai.chat.completions.create(model=MODEL, messages=messages, tools=tools)\n",
    "    image = None\n",
    "\n",
    "    \n",
    "    if response.choices[0].finish_reason==\"tool_calls\":\n",
    "        message = response.choices[0].message\n",
    "        print(f\" \\n, Tool call message: {message}, \\n\")\n",
    "        response, city, tool_name = handle_tool_call(message)\n",
    "        messages.append(message)\n",
    "        messages.append(response)\n",
    "        # image = artist(city)\n",
    "        response = openai.chat.completions.create(model=MODEL, messages=messages)\n",
    "        artist_place_input = response.choices[0].message.content\n",
    "        \n",
    "        if tool_name == \"place_to_see\":\n",
    "            image = artist(city, artist_place_input)\n",
    "\n",
    "        elif tool_name == \"ticket_price\":\n",
    "            image = None\n",
    "\n",
    "        artist_place_input = None\n",
    "\n",
    "        \n",
    "        \n",
    "    reply = response.choices[0].message.content\n",
    "    history += [{\"role\":\"assistant\", \"content\":reply}]\n",
    "\n",
    "    # Audio\n",
    "    talker(reply)\n",
    "    \n",
    "    return history, image"
   ]
  },
  {
   "cell_type": "code",
   "execution_count": null,
   "id": "16840bdc-b519-4635-825e-9b5aae4b5739",
   "metadata": {},
   "outputs": [],
   "source": [
    "# # More involved Gradio code as we're not using the preset Chat interface!\n",
    "# # Passing in inbrowser=True in the last line will cause a Gradio window to pop up immediately.\n",
    "\n",
    "# with gr.Blocks() as ui:\n",
    "#     with gr.Row():\n",
    "#         chatbot = gr.Chatbot(height=500, type=\"messages\")\n",
    "#         image_output = gr.Image(height=500)\n",
    "#     with gr.Row():\n",
    "#         entry = gr.Textbox(label=\"You can write here :D\")\n",
    "#     with gr.Row():\n",
    "#         clear = gr.Button(\"Clear\")\n",
    "\n",
    "#     def do_entry(message, history):\n",
    "#         history += [{\"role\":\"user\", \"content\":message}]\n",
    "#         return \"\", history\n",
    "\n",
    "#     entry.submit(do_entry, inputs=[entry, chatbot], outputs=[entry, chatbot]).then(\n",
    "#         chat, inputs=chatbot, outputs=[chatbot, image_output]\n",
    "#     )\n",
    "#     clear.click(lambda: None, inputs=None, outputs=chatbot, queue=False)\n",
    "\n",
    "# ui.launch(inbrowser=True)"
   ]
  },
  {
   "cell_type": "code",
   "execution_count": null,
   "id": "bd13af9d-dafe-4533-8a9e-84d41447edfa",
   "metadata": {},
   "outputs": [],
   "source": [
    "# More involved Gradio code as we're not using the preset Chat interface!\n",
    "# Passing in inbrowser=True in the last line will cause a Gradio window to pop up immediately.\n",
    "\n",
    "with gr.Blocks() as ui:\n",
    "    with gr.Row():\n",
    "        chatbot = gr.Chatbot(height=500, type=\"messages\")\n",
    "        image_output = gr.Image(height=500)\n",
    "    with gr.Row():\n",
    "        entry = gr.Textbox(label=\"You can write here :D\")\n",
    "    with gr.Row():\n",
    "        voice_button = gr.Button(\"🎤 Voice Input\")\n",
    "        clear = gr.Button(\"Clear\")\n",
    "    \n",
    "    def do_entry(message, history):\n",
    "        history += [{\"role\":\"user\", \"content\":message}]\n",
    "        return \"\", history\n",
    "    \n",
    "    # Text input flow\n",
    "    entry.submit(do_entry, inputs=[entry, chatbot], outputs=[entry, chatbot]).then(\n",
    "        chat, inputs=chatbot, outputs=[chatbot, image_output]\n",
    "    )\n",
    "    \n",
    "    # Voice input flow\n",
    "    voice_button.click(voice_chat, inputs=[chatbot], outputs=[chatbot, image_output])\n",
    "    \n",
    "    # Clear button\n",
    "    clear.click(lambda: None, inputs=None, outputs=chatbot, queue=False)\n",
    "\n",
    "ui.launch(inbrowser=True)"
   ]
  }
 ],
 "metadata": {
  "kernelspec": {
   "display_name": "Python 3 (ipykernel)",
   "language": "python",
   "name": "python3"
  },
  "language_info": {
   "codemirror_mode": {
    "name": "ipython",
    "version": 3
   },
   "file_extension": ".py",
   "mimetype": "text/x-python",
   "name": "python",
   "nbconvert_exporter": "python",
   "pygments_lexer": "ipython3",
   "version": "3.11.11"
  }
 },
 "nbformat": 4,
 "nbformat_minor": 5
}
