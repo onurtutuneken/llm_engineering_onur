{
 "cells": [
  {
   "cell_type": "markdown",
   "id": "ddfa9ae6-69fe-444a-b994-8c4c5970a7ec",
   "metadata": {},
   "source": [
    "# Project - Airline AI Assistant\n",
    "\n",
    "We'll now bring together what we've learned to make an AI Customer Support assistant for an Airline\n",
    "\n",
    "Airline ticket by using multiple tools"
   ]
  },
  {
   "cell_type": "markdown",
   "id": "6c652515-805f-4a2b-8b2f-72d824a4c7e4",
   "metadata": {},
   "source": [
    "Because llama or others doesn't have openai style tool_call structure\n",
    "\n",
    "1) We change system message with few shot example. It says if it is a function call, response in this structure.\n",
    "2) In the chat(message, history) function first we try to understand if it is a function call. If it is not it returns fisrt response, if it is a function call it call function and change the response"
   ]
  },
  {
   "cell_type": "code",
   "execution_count": 1,
   "id": "8b50bbe2-c0b1-49c3-9a5c-1ba7efa2bcb4",
   "metadata": {},
   "outputs": [],
   "source": [
    "# imports\n",
    "\n",
    "\n",
    "import json\n",
    "import gradio as gr\n",
    "import requests\n"
   ]
  },
  {
   "cell_type": "code",
   "execution_count": 2,
   "id": "747e8786-9da8-4342-b6c9-f5f69c2e22ae",
   "metadata": {},
   "outputs": [],
   "source": [
    "# Constants\n",
    "import ollama\n",
    "\n",
    "OLLAMA_API = \"http://localhost:11434/api/chat\"\n",
    "MODEL = \"llama3.2\"\n"
   ]
  },
  {
   "cell_type": "code",
   "execution_count": 3,
   "id": "9e64438e-9c20-41b3-aac7-481d2a7431c8",
   "metadata": {},
   "outputs": [
    {
     "name": "stdout",
     "output_type": "stream",
     "text": [
      "\u001b[?2026h\u001b[?25l\u001b[1Gpulling manifest ⠋ \u001b[K\u001b[?25h\u001b[?2026l\u001b[?2026h\u001b[?25l\u001b[1Gpulling manifest ⠙ \u001b[K\u001b[?25h\u001b[?2026l\u001b[?2026h\u001b[?25l\u001b[1Gpulling manifest ⠹ \u001b[K\u001b[?25h\u001b[?2026l\u001b[?2026h\u001b[?25l\u001b[1Gpulling manifest ⠸ \u001b[K\u001b[?25h\u001b[?2026l\u001b[?2026h\u001b[?25l\u001b[1Gpulling manifest ⠼ \u001b[K\u001b[?25h\u001b[?2026l\u001b[?2026h\u001b[?25l\u001b[1Gpulling manifest ⠴ \u001b[K\u001b[?25h\u001b[?2026l\u001b[?2026h\u001b[?25l\u001b[1Gpulling manifest \u001b[K\n",
      "pulling dde5aa3fc5ff: 100% ▕██████████████████▏ 2.0 GB                         \u001b[K\n",
      "pulling 966de95ca8a6: 100% ▕██████████████████▏ 1.4 KB                         \u001b[K\n",
      "pulling fcc5a6bec9da: 100% ▕██████████████████▏ 7.7 KB                         \u001b[K\n",
      "pulling a70ff7e570d9: 100% ▕██████████████████▏ 6.0 KB                         \u001b[K\n",
      "pulling 56bb8bd477a5: 100% ▕██████████████████▏   96 B                         \u001b[K\n",
      "pulling 34bb5ab01051: 100% ▕██████████████████▏  561 B                         \u001b[K\n",
      "verifying sha256 digest \u001b[K\n",
      "writing manifest \u001b[K\n",
      "success \u001b[K\u001b[?25h\u001b[?2026l\n"
     ]
    }
   ],
   "source": [
    "!ollama pull llama3.2"
   ]
  },
  {
   "cell_type": "code",
   "execution_count": 4,
   "id": "0a521d84-d07c-49ab-a0df-d6451499ed97",
   "metadata": {},
   "outputs": [],
   "source": [
    "# system_message = \"You are a helpful assistant for an Airline called FlightAI. \"\n",
    "# system_message += \"Give short, courteous answers, no more than 1 sentence. \"\n",
    "# system_message += \"Always be accurate. If you don't know the answer, say so.\""
   ]
  },
  {
   "cell_type": "code",
   "execution_count": 5,
   "id": "c62dc3cf-dfa2-40e7-a741-8d948b65a174",
   "metadata": {},
   "outputs": [],
   "source": [
    "# # closed source models like llama cant use\n",
    "\n",
    "# system_message += \"\"\"\n",
    "# You are a helpful assistant that can call tools by returning a JSON object.\n",
    "\n",
    "# If the user asks a question that requires external data (e.g., ticket price or places to see in a city), respond with a JSON object in this format:\n",
    "\n",
    "# {\n",
    "#   \"function\": \"FUNCTION_NAME\",\n",
    "#   \"arguments\": {\n",
    "#     \"destination_city\": \"CITY_NAME\"\n",
    "#   }\n",
    "# }\n",
    "\n",
    "# Supported functions:\n",
    "# 1. get_ticket_price(destination_city)\n",
    "# 2. get_places_to_see(destination_city)\n",
    "\n",
    "# Only return the JSON, nothing else. Do not answer the question yourself.\n",
    "# \"\"\""
   ]
  },
  {
   "cell_type": "code",
   "execution_count": 6,
   "id": "db4701c0-b6c9-4fd0-a215-de4e1a138cd2",
   "metadata": {},
   "outputs": [],
   "source": [
    "system_message = \"\"\"\n",
    "You are a helpful assistant for an airline called FlightAI.\n",
    "\n",
    "If the user asks something that needs external data, call a function by returning a JSON object like:\n",
    "\n",
    "{\n",
    "  \"function\": \"get_ticket_price\",\n",
    "  \"arguments\": {\n",
    "    \"destination_city\": \"London\"\n",
    "  }\n",
    "}\n",
    "\n",
    "After receiving a tool response (from role: tool), you MUST give a short final answer in plain language, in ONE sentence. Do NOT return JSON after that.\n",
    "\n",
    "Supported functions:\n",
    "- get_ticket_price(destination_city)\n",
    "- get_places_to_see(destination_city)\n",
    "\"\"\""
   ]
  },
  {
   "cell_type": "markdown",
   "id": "36bedabf-a0a7-4985-ad8e-07ed6a55a3a4",
   "metadata": {},
   "source": [
    "## Tools\n",
    "\n",
    "Tools are an incredibly powerful feature provided by the frontier LLMs.\n",
    "\n",
    "With tools, you can write a function, and have the LLM call that function as part of its response.\n",
    "\n",
    "Sounds almost spooky.. we're giving it the power to run code on our machine?\n",
    "\n",
    "Well, kinda."
   ]
  },
  {
   "cell_type": "markdown",
   "id": "8cabbdb5-7f65-4616-867a-cd39bdabf774",
   "metadata": {},
   "source": [
    "There  will be 2 tools at the beginnig. \n",
    "1: Will tell the ticket price\n",
    "2. Will tell the places to see"
   ]
  },
  {
   "cell_type": "code",
   "execution_count": 7,
   "id": "0696acb1-0b05-4dc2-80d5-771be04f1fb2",
   "metadata": {},
   "outputs": [],
   "source": [
    "# 1: Ticket price function\n",
    "\n",
    "ticket_prices = {\"london\": \"$799\", \"paris\": \"$899\", \"tokyo\": \"$1400\", \"berlin\": \"$499\"}\n",
    "\n",
    "def get_ticket_price(destination_city):\n",
    "    print(f\"Tool get_ticket_price called for {destination_city}\") # this way we can see this function called in output\n",
    "    city = destination_city.lower()\n",
    "    return ticket_prices.get(city, \"Unknown\") # ticket_prices'te bulamazsa Unknown yazıyor\n",
    "    # return ticket_prices.get(city) # bu boş dönüyor bulamazsa"
   ]
  },
  {
   "cell_type": "code",
   "execution_count": 8,
   "id": "80ca4e09-6287-4d3f-997d-fa6afbcf6c85",
   "metadata": {},
   "outputs": [],
   "source": [
    "# get_ticket_price(\"Berlin\")"
   ]
  },
  {
   "cell_type": "code",
   "execution_count": 9,
   "id": "4afceded-7178-4c05-8fa6-9f2085e6a344",
   "metadata": {},
   "outputs": [],
   "source": [
    "# There's a particular dictionary structure that's required to describe our function:\n",
    "# 1st function for first tool\n",
    "\n",
    "price_function = {\n",
    "    \"name\": \"get_ticket_price\",\n",
    "    \"description\": \"Get the price of a return ticket to the destination city. Call this whenever you need to know the ticket price,\\\n",
    "                    for example when a customer asks 'How much is a ticket to this city'\",\n",
    "    \"parameters\": {\n",
    "        \"type\": \"object\",\n",
    "        \"properties\": {\n",
    "            \"destination_city\": {\n",
    "                \"type\": \"string\",\n",
    "                \"description\": \"The city that the customer wants to travel to\",\n",
    "            },\n",
    "        },\n",
    "        \"required\": [\"destination_city\"],\n",
    "        \"additionalProperties\": False\n",
    "    }\n",
    "}"
   ]
  },
  {
   "cell_type": "code",
   "execution_count": 10,
   "id": "3eb9edb7-08fb-496d-b62a-54e84a7d334f",
   "metadata": {},
   "outputs": [],
   "source": [
    "# 2: Places to see function\n",
    "\n",
    "places_to_see = {\"london\": \"London Eye\", \"paris\": \"Eyfel\", \"tokyo\": \"Tokyo Drift\", \"berlin\": \"I don't know\", \\\n",
    "                \"istanbul\": \"Şükrü Saraçoğlu, Fenerbahçe Stadium\", \"bayburt\": \"Ortugu. \\\n",
    "                This place is where onur has born. Everybody should see there.\"}\n",
    "\n",
    "def get_places_to_see(destination_city): \n",
    "    print(f\"Tool get_places_to_see called for {destination_city}\") # this way we can see this function called in output\n",
    "    city = destination_city.lower()\n",
    "    return places_to_see.get(city, \"Bimiyorum ki valla Onur'a sor\")"
   ]
  },
  {
   "cell_type": "code",
   "execution_count": 11,
   "id": "819ad62c-068f-4f18-87f1-1959bddf30a4",
   "metadata": {},
   "outputs": [],
   "source": [
    "# get_places_to_see(\"Bayburt\")"
   ]
  },
  {
   "cell_type": "code",
   "execution_count": 12,
   "id": "79975363",
   "metadata": {},
   "outputs": [],
   "source": [
    "# get_places_to_see(\"Ankara\")"
   ]
  },
  {
   "cell_type": "code",
   "execution_count": 13,
   "id": "c4db0410",
   "metadata": {},
   "outputs": [],
   "source": [
    "# There's a particular dictionary structure that's required to describe our function:\n",
    "# 2nd function for second tool\n",
    "\n",
    "place_function = {\n",
    "    \"name\": \"get_places_to_see\",\n",
    "    \"description\": \"Get the place to see in the destination city. \\\n",
    "                    Call this whenever you need to know the place to visit,\\\n",
    "                    for example when a customer asks 'Where can I visit in this city' or 'Where should I see in this city'\",\n",
    "    \"parameters\": {\n",
    "        \"type\": \"object\",\n",
    "        \"properties\": {\n",
    "            \"destination_city\": {\n",
    "                \"type\": \"string\",\n",
    "                \"description\": \"The city that the customer wants to travel to\",\n",
    "            },\n",
    "        },\n",
    "        \"required\": [\"destination_city\"],\n",
    "        \"additionalProperties\": False\n",
    "    }\n",
    "}"
   ]
  },
  {
   "cell_type": "code",
   "execution_count": 14,
   "id": "bdca8679-935f-4e7f-97e6-e71a4d4f228c",
   "metadata": {},
   "outputs": [],
   "source": [
    "# And this is included in a list of tools:\n",
    "\n",
    "tools = [{\"type\": \"function\", \"function\": price_function}, \n",
    "        {\"type\": \"function\", \"function\": place_function}]"
   ]
  },
  {
   "cell_type": "markdown",
   "id": "c3d3554f-b4e3-4ce7-af6f-68faa6dd2340",
   "metadata": {},
   "source": [
    "## Getting OpenAI to use our Tool\n",
    "\n",
    "There's some fiddly stuff to allow OpenAI \"to call our tool\"\n",
    "\n",
    "What we actually do is give the LLM the opportunity to inform us that it wants us to run the tool.\n",
    "\n",
    "Here's how the new chat function looks:"
   ]
  },
  {
   "cell_type": "code",
   "execution_count": 15,
   "id": "ce9b0744-9c78-408d-b9df-9f6fd9ed78cf",
   "metadata": {},
   "outputs": [],
   "source": [
    "# def chat(message, history):\n",
    "#     messages = [{\"role\": \"system\", \"content\": system_message}] + history + [{\"role\": \"user\", \"content\": message}]\n",
    "#     response = ollama.chat(model=MODEL, messages=messages_for(website), tools=tools)\n",
    "#     print(f\"finish reason {response.choices[0].finish_reason}\")\n",
    "#     print(f\"Response {response.choices[0].message.content}\")\n",
    "\n",
    "#     if response.choices[0].finish_reason==\"tool_calls\":\n",
    "#         message = response.choices[0].message\n",
    "#         print(f\" \\n, Tool call message: {message}, \\n\")\n",
    "#         response, city = handle_tool_call(message)\n",
    "#         messages.append(message)\n",
    "#         messages.append(response)\n",
    "#         response = openai.chat.completions.create(model=MODEL, messages=messages)\n",
    "    \n",
    "#     return response.choices[0].message.content"
   ]
  },
  {
   "cell_type": "code",
   "execution_count": 16,
   "id": "b93bdcc2-bf68-4b75-9997-0d13b894deb0",
   "metadata": {},
   "outputs": [],
   "source": [
    "\n",
    "\n",
    "def chat(message, history):\n",
    "    messages = [{\"role\": \"system\", \"content\": system_message}] + history + [{\"role\": \"user\", \"content\": message}]\n",
    "    \n",
    "    response = ollama.chat(model=MODEL, messages=messages)\n",
    "    print(f\"Response: {response['message']['content']}\")\n",
    "\n",
    "    # Try to parse the JSON to simulate tool call\n",
    "    try:\n",
    "        print(\"a\")\n",
    "        tool_call_data = json.loads(response['message']['content'])\n",
    "        print(\"b\")\n",
    "        function_name = tool_call_data.get(\"function\")\n",
    "        arguments = tool_call_data.get(\"arguments\", {})\n",
    "        destination_city = arguments.get(\"destination_city\")\n",
    "        print(\"c\")\n",
    "        print(f\" çağrılan fonksiyon: {function_name}\")\n",
    "\n",
    "        if function_name in [\"get_ticket_price\", \"get_places_to_see\"]:\n",
    "            tool_response = handle_tool_call(function_name, destination_city)\n",
    "            messages.append({\"role\": \"assistant\", \"content\": response['message']['content']})\n",
    "            messages.append(tool_response)\n",
    "\n",
    "            # Get final answer after tool call\n",
    "            response = ollama.chat(model=MODEL, messages=messages)\n",
    "            return response['message']['content']\n",
    "    except Exception as e:\n",
    "        print(f\"No tool call detected or JSON parse error: {e}\")\n",
    "\n",
    "    return response['message']['content']"
   ]
  },
  {
   "cell_type": "code",
   "execution_count": 17,
   "id": "b0992986-ea09-4912-a076-8e5603ee631f",
   "metadata": {},
   "outputs": [],
   "source": [
    "# # We have to write that function handle_tool_call:\n",
    "\n",
    "# def handle_tool_call(message):\n",
    "#     tool_call = message.tool_calls[0] # message already has which tool to call\n",
    "#     arguments = json.loads(tool_call.function.arguments) # because it is in json format\n",
    "#     city = arguments.get('destination_city')\n",
    "#     function_name = tool_call.function.name # this is just a string, look at message(call tool message)\n",
    "    \n",
    "#     # price = get_ticket_price(city) we dont know which function to use\n",
    "#     func = 0\n",
    "#     if function_name == \"get_ticket_price\":\n",
    "#         price = get_ticket_price(city)\n",
    "#         func = 1\n",
    "#     elif function_name == \"get_places_to_see\":\n",
    "#         place = get_places_to_see(city)\n",
    "#         func = 2\n",
    "        \n",
    "#     if func == 1:\n",
    "#         response = {\n",
    "#         \"role\": \"tool\",\n",
    "#         \"content\": json.dumps({\"destination_city\": city,\"price\": price}), # destination_city tool call messagının içinde var\n",
    "#         \"tool_call_id\": tool_call.id\n",
    "#         }\n",
    "#     elif func == 2:\n",
    "#         response = {\n",
    "#         \"role\": \"tool\",\n",
    "#         \"content\": json.dumps({\"destination_city\": city,\"place\": place}), # destination_city tool call messagının içinde var\n",
    "#         \"tool_call_id\": tool_call.id\n",
    "#         }\n",
    "        \n",
    "#     return response, city"
   ]
  },
  {
   "cell_type": "code",
   "execution_count": 18,
   "id": "03cf7a4c-b25b-41cb-bce1-da0ecae3de06",
   "metadata": {},
   "outputs": [],
   "source": [
    "def handle_tool_call(function_name, city):\n",
    "    print(f\"Tool {function_name} called for {city}\")\n",
    "    city_lower = city.lower()\n",
    "    \n",
    "    if function_name == \"get_ticket_price\":\n",
    "        print(\"1\")\n",
    "        price = get_ticket_price(city)\n",
    "        return {\n",
    "            \"role\": \"tool\",\n",
    "            \"content\": json.dumps({\"destination_city\": city, \"price\": price})\n",
    "        }\n",
    "    \n",
    "    elif function_name == \"get_places_to_see\":\n",
    "        print(\"2\")\n",
    "        place = get_places_to_see(city)\n",
    "        return {\n",
    "            \"role\": \"tool\",\n",
    "            \"content\": json.dumps({\"destination_city\": city, \"place\": place})\n",
    "        }\n",
    "\n",
    "    return {\"role\": \"tool\", \"content\": json.dumps({\"error\": \"Unknown function\"})}"
   ]
  },
  {
   "cell_type": "code",
   "execution_count": 19,
   "id": "f4be8a71-b19e-4c2f-80df-f59ff2661f14",
   "metadata": {},
   "outputs": [
    {
     "name": "stdout",
     "output_type": "stream",
     "text": [
      "* Running on local URL:  http://127.0.0.1:7861\n",
      "\n",
      "To create a public link, set `share=True` in `launch()`.\n"
     ]
    },
    {
     "data": {
      "text/html": [
       "<div><iframe src=\"http://127.0.0.1:7861/\" width=\"100%\" height=\"500\" allow=\"autoplay; camera; microphone; clipboard-read; clipboard-write;\" frameborder=\"0\" allowfullscreen></iframe></div>"
      ],
      "text/plain": [
       "<IPython.core.display.HTML object>"
      ]
     },
     "metadata": {},
     "output_type": "display_data"
    },
    {
     "data": {
      "text/plain": []
     },
     "execution_count": 19,
     "metadata": {},
     "output_type": "execute_result"
    },
    {
     "name": "stdout",
     "output_type": "stream",
     "text": [
      "Response: Hello! How can I assist you with your FlightAI query today?\n",
      "a\n",
      "No tool call detected or JSON parse error: Expecting value: line 1 column 1 (char 0)\n"
     ]
    }
   ],
   "source": [
    "gr.ChatInterface(fn=chat, type=\"messages\").launch()\n",
    "\n",
    "# call id'de hata alıyor. şehir ismi verip taskı tam anlatmazsan karıştırıyor."
   ]
  }
 ],
 "metadata": {
  "kernelspec": {
   "display_name": "Python 3 (ipykernel)",
   "language": "python",
   "name": "python3"
  },
  "language_info": {
   "codemirror_mode": {
    "name": "ipython",
    "version": 3
   },
   "file_extension": ".py",
   "mimetype": "text/x-python",
   "name": "python",
   "nbconvert_exporter": "python",
   "pygments_lexer": "ipython3",
   "version": "3.11.11"
  }
 },
 "nbformat": 4,
 "nbformat_minor": 5
}
